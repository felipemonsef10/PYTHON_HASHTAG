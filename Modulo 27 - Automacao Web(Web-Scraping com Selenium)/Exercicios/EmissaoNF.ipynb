{
 "cells": [
  {
   "cell_type": "code",
   "execution_count": null,
   "metadata": {},
   "outputs": [],
   "source": [
    "from selenium import webdriver\n",
    "from selenium.webdriver.chrome.service import Service\n",
    "from webdriver_manager.chrome import ChromeDriverManager\n",
    "from selenium.webdriver.common.by import By\n",
    "\n",
    "options = webdriver.ChromeOptions()\n",
    "options.add_experimental_option(\"prefs\", {\n",
    "  \"download.default_directory\": r\"C:\\Users\\felip\\downloads\",\n",
    "  \"download.prompt_for_download\": False,\n",
    "  \"download.directory_upgrade\": True,\n",
    "  \"safebrowsing.enabled\": True\n",
    "})\n",
    "\n",
    "servico = Service(ChromeDriverManager().install())\n",
    "navegador = webdriver.Chrome(service=servico, options=options)"
   ]
  },
  {
   "cell_type": "code",
   "execution_count": null,
   "metadata": {},
   "outputs": [],
   "source": [
    "import os\n",
    "\n",
    "caminho = os.getcwd() + '\\login.html'\n",
    "navegador.get(caminho)"
   ]
  },
  {
   "cell_type": "code",
   "execution_count": null,
   "metadata": {},
   "outputs": [],
   "source": [
    "# login\n",
    "navegador.find_element(By.XPATH, '/html/body/div/form/input[1]').send_keys('Felipe')\n",
    "navegador.find_element(By.XPATH, '/html/body/div/form/input[2]').send_keys('asdf')\n",
    "navegador.find_element(By.XPATH, '/html/body/div/form/button').click()"
   ]
  },
  {
   "cell_type": "code",
   "execution_count": null,
   "metadata": {},
   "outputs": [],
   "source": [
    "import pandas as pd\n",
    "\n",
    "df = pd.read_excel('NotasEmitir.xlsx')\n",
    "lista_clientes = [dict(df.loc[cont]) for cont in df.index]"
   ]
  },
  {
   "cell_type": "code",
   "execution_count": null,
   "metadata": {},
   "outputs": [],
   "source": [
    "for cliente in lista_clientes:\n",
    "    nome = cliente['Cliente']\n",
    "    endereco = cliente['Endereço']\n",
    "    bairro = cliente['Bairro']\n",
    "    municipio = cliente['Municipio']\n",
    "    cep = cliente['CEP']\n",
    "    uf = cliente['UF']\n",
    "    cpf_cnpj = cliente['CPF/CNPJ']\n",
    "    inscricao = cliente['Inscricao Estadual']\n",
    "    descricao = cliente['Descrição']\n",
    "    qtd = cliente['Quantidade']\n",
    "    vlr_unit = cliente['Valor Unitario']\n",
    "    vlr_tot = cliente['Valor Total']\n",
    "\n",
    "    # preencher dados da nf\n",
    "    navegador.find_element(By.NAME, 'nome').clear()\n",
    "    navegador.find_element(By.NAME, 'nome').send_keys(nome)\n",
    "\n",
    "    navegador.find_element(By.NAME, 'endereco').clear()\n",
    "    navegador.find_element(By.NAME, 'endereco').send_keys(endereco)\n",
    "\n",
    "    navegador.find_element(By.NAME, 'bairro').clear()\n",
    "    navegador.find_element(By.NAME, 'bairro').send_keys(bairro)\n",
    "\n",
    "    navegador.find_element(By.NAME, 'municipio').clear()\n",
    "    navegador.find_element(By.NAME, 'municipio').send_keys(municipio)\n",
    "\n",
    "    navegador.find_element(By.NAME, 'cep').clear()\n",
    "    navegador.find_element(By.NAME, 'cep').send_keys(f'{cep}')\n",
    "\n",
    "    # navegador.find_element(By.NAME, 'uf').clear()\n",
    "    navegador.find_element(By.NAME, 'uf').send_keys(uf)\n",
    "\n",
    "    navegador.find_element(By.NAME, 'cnpj').clear()\n",
    "    navegador.find_element(By.NAME, 'cnpj').send_keys(f'{cpf_cnpj}')\n",
    "\n",
    "    navegador.find_element(By.NAME, 'inscricao').clear()\n",
    "    navegador.find_element(By.NAME, 'inscricao').send_keys(f'{inscricao}')\n",
    "\n",
    "    navegador.find_element(By.NAME, 'descricao').clear()\n",
    "    navegador.find_element(By.NAME, 'descricao').send_keys(descricao)\n",
    "\n",
    "    navegador.find_element(By.NAME, 'quantidade').clear()\n",
    "    navegador.find_element(By.NAME, 'quantidade').send_keys(f'{qtd}')\n",
    "\n",
    "    navegador.find_element(By.NAME, 'valor_unitario').clear()\n",
    "    navegador.find_element(By.NAME, 'valor_unitario').send_keys(f'{vlr_unit}')\n",
    "\n",
    "    navegador.find_element(By.NAME, 'total').clear()\n",
    "    navegador.find_element(By.NAME, 'total').send_keys(f'{vlr_tot}')\n",
    "\n",
    "    # emitir nf\n",
    "    navegador.find_element(By.CLASS_NAME, 'registerbtn').click()\n",
    "\n",
    "    # recarregar pagina\n",
    "    # navegador.refresh()"
   ]
  },
  {
   "cell_type": "code",
   "execution_count": null,
   "metadata": {},
   "outputs": [],
   "source": [
    "navegador.quit()"
   ]
  }
 ],
 "metadata": {
  "kernelspec": {
   "display_name": "Python 3",
   "language": "python",
   "name": "python3"
  },
  "language_info": {
   "codemirror_mode": {
    "name": "ipython",
    "version": 3
   },
   "file_extension": ".py",
   "mimetype": "text/x-python",
   "name": "python",
   "nbconvert_exporter": "python",
   "pygments_lexer": "ipython3",
   "version": "3.10.10"
  }
 },
 "nbformat": 4,
 "nbformat_minor": 2
}

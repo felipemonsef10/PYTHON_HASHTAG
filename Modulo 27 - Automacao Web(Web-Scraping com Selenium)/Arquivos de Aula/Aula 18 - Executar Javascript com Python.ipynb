{
 "cells": [
  {
   "cell_type": "markdown",
   "id": "86905cc2",
   "metadata": {},
   "source": [
    "### Executar Comandos Javascript (Scroll da tela)\n",
    "\n",
    "- Você consegue, por meio do Selenium, executar comandos javascript no seu navegador\n",
    "\n",
    "- Isso é essencial para dar scroll na tela, por exemplo, caso seja necessário, como no youtube"
   ]
  },
  {
   "cell_type": "code",
   "execution_count": null,
   "id": "965a3371",
   "metadata": {},
   "outputs": [],
   "source": [
    "# quero pegar uma lista de pelo menos 50 vídeos de Python do Youtube\n",
    "\n",
    "# window.scroll(0, 100)\n",
    "from selenium import webdriver\n",
    "from selenium.webdriver.chrome.service import Service\n",
    "from webdriver_manager.chrome import ChromeDriverManager\n",
    "from selenium.webdriver.common.by import By\n",
    "\n",
    "servico = Service(ChromeDriverManager().install())\n",
    "navegador = webdriver.Chrome(service=servico)"
   ]
  },
  {
   "cell_type": "code",
   "execution_count": null,
   "id": "628bc428",
   "metadata": {},
   "outputs": [],
   "source": [
    "navegador.get(\"https://www.youtube.com/results?search_query=python\")"
   ]
  },
  {
   "cell_type": "code",
   "execution_count": null,
   "id": "97d27005",
   "metadata": {},
   "outputs": [],
   "source": [
    "# vou dar scroll na tela\n",
    "import time\n",
    "\n",
    "for i in range(30):\n",
    "    qtde_scroll = i * 2000\n",
    "    navegador.execute_script(f'window.scroll(0, {qtde_scroll})')\n",
    "    time.sleep(2)\n",
    "\n",
    "lista_videos = navegador.find_elements(By.ID, 'thumbnail')\n",
    "\n",
    "for video in lista_videos:\n",
    "    print(video.get_attribute(\"href\"))"
   ]
  },
  {
   "cell_type": "code",
   "execution_count": null,
   "id": "8be4d0b7",
   "metadata": {},
   "outputs": [],
   "source": []
  }
 ],
 "metadata": {
  "kernelspec": {
   "display_name": "Python 3 (ipykernel)",
   "language": "python",
   "name": "python3"
  },
  "language_info": {
   "codemirror_mode": {
    "name": "ipython",
    "version": 3
   },
   "file_extension": ".py",
   "mimetype": "text/x-python",
   "name": "python",
   "nbconvert_exporter": "python",
   "pygments_lexer": "ipython3",
   "version": "3.10.10"
  }
 },
 "nbformat": 4,
 "nbformat_minor": 5
}

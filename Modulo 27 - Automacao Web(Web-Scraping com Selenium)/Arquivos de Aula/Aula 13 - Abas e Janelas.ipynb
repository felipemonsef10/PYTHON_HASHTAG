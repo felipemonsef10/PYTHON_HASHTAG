{
 "cells": [
  {
   "cell_type": "markdown",
   "id": "367cd714",
   "metadata": {},
   "source": [
    "### Documentação Selenium:\n",
    "\n",
    "- https://selenium-python.readthedocs.io/locating-elements.html"
   ]
  },
  {
   "cell_type": "code",
   "execution_count": null,
   "id": "4e28f9f7",
   "metadata": {},
   "outputs": [],
   "source": [
    "from selenium import webdriver\n",
    "from selenium.webdriver.chrome.service import Service\n",
    "from webdriver_manager.chrome import ChromeDriverManager\n",
    "from selenium.webdriver.common.by import By\n",
    "\n",
    "servico = Service(ChromeDriverManager().install())\n",
    "navegador = webdriver.Chrome(service=servico)"
   ]
  },
  {
   "cell_type": "code",
   "execution_count": null,
   "id": "59c8398d",
   "metadata": {},
   "outputs": [],
   "source": [
    "import os\n",
    "\n",
    "caminho = os.getcwd()\n",
    "arquivo = caminho + r\"\\Pagina Hashtag.html\"\n",
    "navegador.get(arquivo)"
   ]
  },
  {
   "cell_type": "markdown",
   "id": "6a53660c",
   "metadata": {},
   "source": [
    "#### Botão que abre outra janela"
   ]
  },
  {
   "cell_type": "code",
   "execution_count": null,
   "id": "24db6c41",
   "metadata": {},
   "outputs": [],
   "source": [
    "navegador.find_element(By.XPATH, '/html/body/section[2]/div/div[4]/figure/a/img').click()"
   ]
  },
  {
   "cell_type": "code",
   "execution_count": null,
   "id": "03593fb4",
   "metadata": {},
   "outputs": [],
   "source": [
    "# preenchendo o formulario\n",
    "\n",
    "navegador.find_element(By.ID, 'firstname').send_keys(\"LiraLira\")"
   ]
  },
  {
   "cell_type": "markdown",
   "id": "80f18fcd",
   "metadata": {},
   "source": [
    "### Outra aba"
   ]
  },
  {
   "cell_type": "code",
   "execution_count": null,
   "id": "dbac0005",
   "metadata": {},
   "outputs": [],
   "source": [
    "aba_original = navegador.window_handles[0]\n",
    "nova_aba = navegador.window_handles[1]\n",
    "navegador.switch_to.window(nova_aba)\n",
    "navegador.find_element(By.ID, 'firstname').send_keys(\"LiraNovaAba\")"
   ]
  },
  {
   "cell_type": "code",
   "execution_count": null,
   "id": "308bee5a",
   "metadata": {},
   "outputs": [],
   "source": [
    "navegador.find_element(By.ID, 'email').send_keys(\"lira@lira.com\")"
   ]
  },
  {
   "cell_type": "markdown",
   "id": "e50bd0a5",
   "metadata": {},
   "source": [
    "### Identificar qual aba é qual item da lista do window_handles"
   ]
  },
  {
   "cell_type": "code",
   "execution_count": null,
   "id": "1888467e",
   "metadata": {},
   "outputs": [],
   "source": [
    "# ver os titulos de todas as abas\n",
    "for aba in navegador.window_handles:\n",
    "    navegador.switch_to.window(aba)\n",
    "    print(navegador.title)"
   ]
  },
  {
   "cell_type": "markdown",
   "id": "61122cce",
   "metadata": {},
   "source": [
    "### Outra janela"
   ]
  },
  {
   "cell_type": "code",
   "execution_count": null,
   "id": "f41323a6",
   "metadata": {},
   "outputs": [],
   "source": [
    "abas = navegador.window_handles\n",
    "print(len(abas))\n",
    "nova_janela = navegador.window_handles[0]\n",
    "navegador.switch_to.window(nova_janela)"
   ]
  },
  {
   "cell_type": "code",
   "execution_count": null,
   "id": "ee97440e",
   "metadata": {},
   "outputs": [],
   "source": [
    "navegador.find_element(By.ID, 'fullname').send_keys(\"LiraJanela\")\n",
    "navegador.find_element(By.ID, 'email').send_keys(\"janela@lira.com\")"
   ]
  },
  {
   "cell_type": "code",
   "execution_count": null,
   "id": "d8c1246d",
   "metadata": {},
   "outputs": [],
   "source": [
    "# fechar a aba atualmente selecionada\n",
    "navegador.close()\n",
    "# fechar todas as abas (navegador inteiro)\n",
    "navegador.quit()"
   ]
  }
 ],
 "metadata": {
  "kernelspec": {
   "display_name": "Python 3 (ipykernel)",
   "language": "python",
   "name": "python3"
  },
  "language_info": {
   "codemirror_mode": {
    "name": "ipython",
    "version": 3
   },
   "file_extension": ".py",
   "mimetype": "text/x-python",
   "name": "python",
   "nbconvert_exporter": "python",
   "pygments_lexer": "ipython3",
   "version": "3.10.10"
  }
 },
 "nbformat": 4,
 "nbformat_minor": 5
}

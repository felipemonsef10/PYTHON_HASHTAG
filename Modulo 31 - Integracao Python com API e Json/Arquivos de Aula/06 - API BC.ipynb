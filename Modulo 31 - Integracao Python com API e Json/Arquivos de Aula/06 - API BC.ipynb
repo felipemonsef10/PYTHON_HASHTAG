{
 "cells": [
  {
   "cell_type": "markdown",
   "id": "3fb208cd",
   "metadata": {},
   "source": [
    "### API do Banco Central\n",
    "\n",
    "https://dadosabertos.bcb.gov.br/dataset?res_format=API"
   ]
  },
  {
   "cell_type": "code",
   "execution_count": 12,
   "id": "5719eabd",
   "metadata": {},
   "outputs": [],
   "source": [
    "import requests\n",
    "\n",
    "link = \"https://olinda.bcb.gov.br/olinda/servico/mecir_dinheiro_em_circulacao/versao/v1/odata/informacoes_diarias?$top=10000&$orderby=Data%20desc&$format=json\"\n",
    "\n",
    "requisicao = requests.get(link)\n",
    "informacoes = requisicao.json()\n",
    "\n",
    "\n",
    "# import pprint\n",
    "\n",
    "# pprint.pprint(informacoes)"
   ]
  },
  {
   "cell_type": "code",
   "execution_count": null,
   "id": "1c33d2b0",
   "metadata": {},
   "outputs": [],
   "source": [
    "import pandas as pd\n",
    "\n",
    "tabela = pd.DataFrame(informacoes[\"value\"])\n",
    "\n",
    "# tabela[\"Valor\"] = tabela[\"Valor\"].map(\"R${:,.2f}\".format)\n",
    "\n",
    "display(tabela)"
   ]
  },
  {
   "cell_type": "code",
   "execution_count": null,
   "id": "857d16d9",
   "metadata": {},
   "outputs": [],
   "source": [
    "# pegar todas as informacoes com varias requisiçoes\n",
    "\n",
    "tabela_final = pd.DataFrame()\n",
    "pular_indice = 0\n",
    "\n",
    "while True:\n",
    "    link = f'https://olinda.bcb.gov.br/olinda/servico/mecir_dinheiro_em_circulacao/versao/v1/odata/informacoes_diarias?$top=10000&$skip={pular_indice}&$orderby=Data%20desc&$format=json'\n",
    "    requisicao = requests.get(link)\n",
    "    informacoes = requisicao.json()\n",
    "    tabela = pd.DataFrame(informacoes[\"value\"])\n",
    "    if len(informacoes['value']) < 1:\n",
    "        break\n",
    "    tabela_final = pd.concat([tabela_final, tabela])\n",
    "    pular_indice += 10000\n",
    "\n",
    "display(tabela_final)"
   ]
  },
  {
   "cell_type": "code",
   "execution_count": null,
   "id": "c651afa0",
   "metadata": {},
   "outputs": [],
   "source": []
  }
 ],
 "metadata": {
  "kernelspec": {
   "display_name": "Python 3 (ipykernel)",
   "language": "python",
   "name": "python3"
  },
  "language_info": {
   "codemirror_mode": {
    "name": "ipython",
    "version": 3
   },
   "file_extension": ".py",
   "mimetype": "text/x-python",
   "name": "python",
   "nbconvert_exporter": "python",
   "pygments_lexer": "ipython3",
   "version": "3.9.7"
  }
 },
 "nbformat": 4,
 "nbformat_minor": 5
}

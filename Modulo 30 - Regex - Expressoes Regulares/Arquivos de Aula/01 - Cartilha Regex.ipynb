{
 "cells": [
  {
   "cell_type": "markdown",
   "id": "4882c553",
   "metadata": {},
   "source": [
    "### Operadores\n",
    "\n",
    "    [] – conjunto de  caracteres;\n",
    "    \\ – sequência especial de caracteres;\n",
    "    ^ – buscar elementos no início da string;\n",
    "    $ – buscar elementos no final da string;\n",
    "    * – buscar zero ou mais repetições de uma substring;\n",
    "    + – uma ou mais aparições de uma substring;\n",
    "    ? – zero ou uma aparição;\n",
    "    | – busca um caractere ou outro.\n",
    "    {} - quantidade específica de caracteres\n",
    "    [^] - diferente de um caractere especificado logo após o ^\n",
    "    () - apenas para agrupar regras e definir ordem de aplicação (igual matemática)\n",
    "\n",
    "### Especificando caracteres:\n",
    "    . - qualquer caractere\n",
    "    \\d - qualquer dígito\n",
    "    \\D - não é dígito\n",
    "    \\w - qualquer alfanumérico\n",
    "    \\W - não é alfanumérico\n",
    "    \\s - espaço em branco\n",
    "    \\S - não é espaço em branco\n",
    "\n",
    "#### obs: lembre de usar a string como raw string\n",
    "\n",
    "### Funções\n",
    "#### Lembre sempre de importar a biblioteca re\n",
    "\n",
    "- re.compile('padrao_regex') -> compilar um padrão regex\n",
    "- re.search(padrao_compilado, texto) -> procura uma ocorrência do padrão no texto (re.match só procura na 1ª linha do texto)\n",
    "- re.findall(padrao_compilado, texto) -> encontra todas as ocorrencias do padrão em um texto - armazena em uma lista\n",
    "- re.finditer(padrao_compilado, texto) -> encontra todas as ocorrencias e armazena em um iterador"
   ]
  },
  {
   "cell_type": "code",
   "execution_count": null,
   "id": "8900fc84",
   "metadata": {},
   "outputs": [],
   "source": [
    "texto = \"\"\"\n",
    "Bom dia,\n",
    "\n",
    "Seguem os orçamentos solicitados:\n",
    "\n",
    "\n",
    "Cerveja importada (330 ml) - R$12,30598615178 - bebida\n",
    "Cerveja nacional (0,5 litros) - R$6,10 - bebida\n",
    "Garrafa de vinho (750ml) - R$39,90 - bebida\n",
    "Água (garrafa de 1,5 litros) - R$3,30 - bebida\n",
    "Alface (1 unidade) - R$3,50 - comida\n",
    "Cebolas (1kg) - R$5,10 - comida\n",
    "Batatas (1 kg) - R$5,20 - comida\n",
    "Tomates (1 kg) - R$7,90 - comida\n",
    "Laranjas (1 kg) - R$4,70 - comida\n",
    "Bananas (1kg) - R$5,50 - comida\n",
    "Maçãs (1 kg) - R$8,30 - comida\n",
    "Queijo fresco (1 kg) - R$42,90 - comida\n",
    "Uma dúzia de ovos(12) - R$9,80 - comida\n",
    "Arroz (1 kg) - R$5,70 - comida\n",
    "Um quilo de pão (1 kg) - R$7,20 - comida\n",
    "Leite (1 litro) - R$5,20 - bebida\n",
    "Azeite (1 unidade) - R$20 - tempero\n",
    "Pimenta Reino (20g) - R$5 - tempero\n",
    "\n",
    "\n",
    "Favor informar as quantidades desejadas \n",
    "para emissão da Nota Fiscal.\n",
    "\n",
    "Att.,\"\"\""
   ]
  },
  {
   "cell_type": "markdown",
   "id": "3e3da46f",
   "metadata": {},
   "source": [
    "#### Ex: Quantos itens"
   ]
  },
  {
   "cell_type": "code",
   "execution_count": null,
   "id": "664f4bc0",
   "metadata": {},
   "outputs": [],
   "source": [
    "import re \n",
    "\n",
    "# quantas comidas\n",
    "padrao = re.compile(\"comida\")\n",
    "resultado = re.finditer(padrao, texto)\n",
    "print(resultado)\n",
    "for item in resultado:\n",
    "    print(item)\n",
    "\n",
    "# quantas bebidas\n",
    "padrao = re.compile(\"bebida\")\n",
    "resultado = re.findall(padrao, texto)\n",
    "print(len(resultado))"
   ]
  },
  {
   "cell_type": "code",
   "execution_count": null,
   "id": "d8d340fc",
   "metadata": {},
   "outputs": [],
   "source": [
    "# quantos itens\n",
    "padrao = re.compile(\"\\$\")\n",
    "resultado = re.findall(padrao, texto)\n",
    "print(len(resultado))"
   ]
  },
  {
   "cell_type": "code",
   "execution_count": null,
   "id": "44a6d0da",
   "metadata": {},
   "outputs": [],
   "source": [
    "novo_texto = \"Nome: Lira Idade: 29 Salario: 1500\"\n",
    "padrao = re.compile(r\"[a-zA-Z:]+\")\n",
    "resultado = re.findall(padrao, novo_texto)\n",
    "print(resultado)"
   ]
  },
  {
   "cell_type": "markdown",
   "id": "cc12bc6d",
   "metadata": {},
   "source": [
    "#### Ex: Extrair números"
   ]
  },
  {
   "cell_type": "code",
   "execution_count": null,
   "id": "e96fa8ec",
   "metadata": {},
   "outputs": [],
   "source": [
    "padrao = re.compile(r\"\\d+,?\\d*\")\n",
    "resultado = re.findall(padrao, texto)\n",
    "print(resultado)"
   ]
  },
  {
   "cell_type": "markdown",
   "id": "74477194",
   "metadata": {},
   "source": [
    "#### Ex: Extrair quantos ml (do 1º item)"
   ]
  },
  {
   "cell_type": "code",
   "execution_count": null,
   "id": "3e41e61a",
   "metadata": {},
   "outputs": [],
   "source": [
    "padrao = re.compile(r\"\\(.+\\)\")\n",
    "resultado = re.search(padrao, texto)\n",
    "print(resultado)\n",
    "\n",
    "padrao = re.compile(r\"\\(\\d+\\s\\w+\\)\")\n",
    "resultado = re.search(padrao, texto)\n",
    "print(resultado)"
   ]
  },
  {
   "cell_type": "markdown",
   "id": "56f1d77b",
   "metadata": {},
   "source": [
    "#### Ex: Preço do 1º item"
   ]
  },
  {
   "cell_type": "code",
   "execution_count": null,
   "id": "f33962c5",
   "metadata": {},
   "outputs": [],
   "source": [
    "padrao = re.compile(r\"R\\$\\d+,\\d+\")\n",
    "resultado = re.search(padrao, texto)\n",
    "print(resultado)\n",
    "print(resultado.group(0))\n",
    "print(texto[76:92])"
   ]
  },
  {
   "cell_type": "markdown",
   "id": "3f125f90",
   "metadata": {},
   "source": [
    "#### Ex: Todos os preços"
   ]
  },
  {
   "cell_type": "code",
   "execution_count": null,
   "id": "0140fd16",
   "metadata": {},
   "outputs": [],
   "source": [
    "padrao = re.compile(r\"R\\$(\\d+,?\\d{0,2})\")\n",
    "\n",
    "resultado = re.findall(padrao, texto)\n",
    "resultado2 = re.search(padrao, texto)\n",
    "resultado3 = re.finditer(padrao, texto)\n",
    "\n",
    "print(resultado)\n",
    "print(resultado2)\n",
    "for item in resultado3:\n",
    "    print(item)"
   ]
  },
  {
   "cell_type": "markdown",
   "id": "7729f8ee",
   "metadata": {},
   "source": [
    "#### Ex: Quantidades dos itens"
   ]
  },
  {
   "cell_type": "code",
   "execution_count": null,
   "id": "7b0489b9",
   "metadata": {},
   "outputs": [],
   "source": [
    "padrao = re.compile(r\"\\((.+)\\)\")\n",
    "resultado = re.findall(padrao, texto)\n",
    "print(resultado)"
   ]
  },
  {
   "cell_type": "markdown",
   "id": "e2d8e3da",
   "metadata": {},
   "source": [
    "#### Ex: Links"
   ]
  },
  {
   "cell_type": "code",
   "execution_count": null,
   "id": "a012ad53",
   "metadata": {},
   "outputs": [],
   "source": [
    "texto2 = \"\"\"\n",
    "Olá\n",
    "\n",
    "Segue o relatório de SEO para os seguintes sites:\n",
    "https://portalhashtag.com\n",
    "http://hashtagtreinamentos.com\n",
    "https://www.wikipedia.org/\n",
    "www.bcb.gov.br/\n",
    "\n",
    "Qualquer dúvida estamos à disposição\"\"\"\n",
    "\n",
    "padrao = re.compile(r\"(https?://)?(www\\.)?\\w+\\.(com\\.br|com|org|gov\\.br)\")\n",
    "resultado1 = re.findall(padrao, texto2)\n",
    "resultado2 = re.finditer(padrao, texto2)\n",
    "print(resultado1)\n",
    "for item in resultado2:\n",
    "    print(item.group(0))"
   ]
  },
  {
   "cell_type": "code",
   "execution_count": null,
   "id": "10bb2322",
   "metadata": {},
   "outputs": [],
   "source": []
  }
 ],
 "metadata": {
  "kernelspec": {
   "display_name": "Python 3 (ipykernel)",
   "language": "python",
   "name": "python3"
  },
  "language_info": {
   "codemirror_mode": {
    "name": "ipython",
    "version": 3
   },
   "file_extension": ".py",
   "mimetype": "text/x-python",
   "name": "python",
   "nbconvert_exporter": "python",
   "pygments_lexer": "ipython3",
   "version": "3.10.10"
  }
 },
 "nbformat": 4,
 "nbformat_minor": 5
}

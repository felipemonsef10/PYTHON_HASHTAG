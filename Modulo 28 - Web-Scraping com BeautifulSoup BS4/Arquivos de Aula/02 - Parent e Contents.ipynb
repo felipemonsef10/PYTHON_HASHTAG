{
 "cells": [
  {
   "cell_type": "code",
   "execution_count": null,
   "id": "956ea54f",
   "metadata": {},
   "outputs": [],
   "source": [
    "from bs4 import BeautifulSoup\n",
    "import re\n",
    "\n",
    "with open(\"Pagina Hashtag.html\", \"r\", encoding=\"utf-8\") as arquivo:\n",
    "    site = BeautifulSoup(arquivo, \"html.parser\")\n",
    "    \n",
    "\n",
    "textos = site.find_all(string=re.compile(\"alunos\"))\n",
    "print(textos)"
   ]
  },
  {
   "cell_type": "code",
   "execution_count": null,
   "id": "90dcfd7c",
   "metadata": {},
   "outputs": [],
   "source": [
    "parent = textos[0].parent.parent\n",
    "print(parent)"
   ]
  },
  {
   "cell_type": "code",
   "execution_count": null,
   "id": "a3564d17",
   "metadata": {},
   "outputs": [],
   "source": [
    "barra_navegacao = site.find(\"nav\")\n",
    "# print(barra_navegacao.contents)\n",
    "\n",
    "botao = barra_navegacao.contents[1]\n",
    "print(botao.contents)"
   ]
  },
  {
   "cell_type": "code",
   "execution_count": null,
   "id": "b4b44095",
   "metadata": {},
   "outputs": [],
   "source": [
    "titulo_alunos = site.find(id=\"mais-de-50-000-de-alunos-formados-por-todos-os-cursos-da-hashtag\")\n",
    "print(titulo_alunos.contents)\n",
    "print(titulo_alunos.contents[0].contents)"
   ]
  }
 ],
 "metadata": {
  "kernelspec": {
   "display_name": "Python 3 (ipykernel)",
   "language": "python",
   "name": "python3"
  },
  "language_info": {
   "codemirror_mode": {
    "name": "ipython",
    "version": 3
   },
   "file_extension": ".py",
   "mimetype": "text/x-python",
   "name": "python",
   "nbconvert_exporter": "python",
   "pygments_lexer": "ipython3",
   "version": "3.10.10"
  }
 },
 "nbformat": 4,
 "nbformat_minor": 5
}

{
 "cells": [
  {
   "cell_type": "code",
   "execution_count": null,
   "id": "0cd8af70",
   "metadata": {},
   "outputs": [],
   "source": [
    "# %pip install beautifulsoup4"
   ]
  },
  {
   "cell_type": "code",
   "execution_count": null,
   "id": "a8cf6284",
   "metadata": {},
   "outputs": [],
   "source": [
    "from bs4 import BeautifulSoup\n",
    "\n",
    "with open(\"Pagina Hashtag.html\", \"r\", encoding=\"utf-8\") as arquivo:\n",
    "    site = BeautifulSoup(arquivo, \"html.parser\")\n",
    "\n",
    "# print(site.prettify())\n",
    "titulo = site.find(\"title\")\n",
    "print(titulo)"
   ]
  },
  {
   "cell_type": "code",
   "execution_count": null,
   "id": "900775de",
   "metadata": {},
   "outputs": [],
   "source": [
    "h1 = site.find(\"h1\")\n",
    "print(h1)"
   ]
  },
  {
   "cell_type": "code",
   "execution_count": null,
   "id": "6fe09c3c",
   "metadata": {},
   "outputs": [],
   "source": [
    "barra_navegacao = site.find(\"nav\")\n",
    "print(barra_navegacao.prettify())"
   ]
  },
  {
   "cell_type": "code",
   "execution_count": null,
   "id": "a7c44eb0",
   "metadata": {},
   "outputs": [],
   "source": [
    "links = barra_navegacao.find_all(\"a\")\n",
    "print(links)\n",
    "print(len(links))"
   ]
  },
  {
   "cell_type": "code",
   "execution_count": null,
   "id": "bebdfadf",
   "metadata": {},
   "outputs": [],
   "source": [
    "# print(links[0])\n",
    "# print(links[0].attrs)\n",
    "\n",
    "for link in links:\n",
    "    print(link[\"href\"])"
   ]
  },
  {
   "cell_type": "markdown",
   "id": "b0e69108",
   "metadata": {},
   "source": [
    "### Encontrando elementos com várias regras"
   ]
  },
  {
   "cell_type": "code",
   "execution_count": null,
   "id": "3f27a41f",
   "metadata": {},
   "outputs": [],
   "source": [
    "elementos_navegacao = barra_navegacao.find_all([\"a\", \"button\"])\n",
    "print(elementos_navegacao)\n",
    "print(len(elementos_navegacao))"
   ]
  },
  {
   "cell_type": "markdown",
   "id": "7ec9ae2a",
   "metadata": {},
   "source": [
    "### Outras regras de find\n",
    "\n",
    "- por classe\n",
    "- por id\n",
    "- por atributos\n",
    "- por texto\n",
    "- por pedaços de texto"
   ]
  },
  {
   "cell_type": "code",
   "execution_count": null,
   "id": "339b782d",
   "metadata": {},
   "outputs": [],
   "source": [
    "subtitulo = site.find(class_=\"tit\")\n",
    "print(subtitulo)"
   ]
  },
  {
   "cell_type": "code",
   "execution_count": null,
   "id": "745f774d",
   "metadata": {},
   "outputs": [],
   "source": [
    "cabecalho = site.find(id=\"header\")\n",
    "print(cabecalho)"
   ]
  },
  {
   "cell_type": "code",
   "execution_count": null,
   "id": "3370ce01",
   "metadata": {},
   "outputs": [],
   "source": [
    "cabecalho2 = site.find(role=\"banner\")\n",
    "print(cabecalho2)"
   ]
  },
  {
   "cell_type": "code",
   "execution_count": null,
   "id": "0c7687a3",
   "metadata": {},
   "outputs": [],
   "source": [
    "cabecalho3 = site.find(id=\"header\", role=\"banner\")\n",
    "print(cabecalho3)"
   ]
  },
  {
   "cell_type": "code",
   "execution_count": null,
   "id": "89cb8d64",
   "metadata": {},
   "outputs": [],
   "source": [
    "logo = site.find(\"img\", {\"data-ll-status\": \"loaded\", \"class\": \"custom-logo\"})\n",
    "print(logo)"
   ]
  },
  {
   "cell_type": "markdown",
   "id": "41e7fd9b",
   "metadata": {},
   "source": [
    "### Busca por texto"
   ]
  },
  {
   "cell_type": "code",
   "execution_count": null,
   "id": "d7e9d05c",
   "metadata": {},
   "outputs": [],
   "source": [
    "# texto é igual\n",
    "foco_mercado = site.find(string=\"Foco no Mercado\")\n",
    "print(foco_mercado)"
   ]
  },
  {
   "cell_type": "code",
   "execution_count": null,
   "id": "71349fec",
   "metadata": {},
   "outputs": [],
   "source": [
    "# contém texto\n",
    "import re\n",
    "\n",
    "textos = site.find_all(string=re.compile(\"alunos\"))\n",
    "print(textos)"
   ]
  },
  {
   "cell_type": "code",
   "execution_count": null,
   "id": "8b1d6e0d",
   "metadata": {},
   "outputs": [],
   "source": []
  }
 ],
 "metadata": {
  "kernelspec": {
   "display_name": "Python 3",
   "language": "python",
   "name": "python3"
  },
  "language_info": {
   "codemirror_mode": {
    "name": "ipython",
    "version": 3
   },
   "file_extension": ".py",
   "mimetype": "text/x-python",
   "name": "python",
   "nbconvert_exporter": "python",
   "pygments_lexer": "ipython3",
   "version": "3.10.10"
  }
 },
 "nbformat": 4,
 "nbformat_minor": 5
}
